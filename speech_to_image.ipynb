{
 "cells": [
  {
   "cell_type": "code",
   "execution_count": 13,
   "id": "633b7902",
   "metadata": {},
   "outputs": [
    {
     "name": "stdout",
     "output_type": "stream",
     "text": [
      "enter: burger\n",
      "<class 'str'>\n"
     ]
    }
   ],
   "source": [
    "from pathlib import Path\n",
    "from PIL import Image\n",
    "a = input(\"enter: \")\n",
    "print(type(a))\n",
    "my_file = Path(f\"C:\\\\Users\\\\ss\\\\Desktop\\\\python\\\\images\\\\{a}.jpeg\")\n",
    "#im = Image.open(f\"/home/solicitous/Downloads/images/{a}.jpeg\")\n",
    "if my_file.is_file():\n",
    "    im = Image.open(f\"C:\\\\Users\\\\ss\\\\Desktop\\\\python\\\\images\\\\{a}.jpeg\")\n",
    "    im.show()\n",
    "else:\n",
    "    print('file not found')"
   ]
  },
  {
   "cell_type": "code",
   "execution_count": 102,
   "id": "7e420d94",
   "metadata": {},
   "outputs": [
    {
     "name": "stdout",
     "output_type": "stream",
     "text": [
      "<class 'set'>\n",
      "<class 'str'>\n",
      "file not found\n"
     ]
    }
   ],
   "source": [
    "from pathlib import Path\n",
    "from PIL import Image\n",
    "\n",
    "my_string = 'I love kd'\n",
    "keywords = ['kd', 'apple', 'citrus']\n",
    "a = set(my_string.split()) & set(keywords)\n",
    "print(type(a))\n",
    "\n",
    "b= str((a))\n",
    "print(type(b))\n",
    "my_file = Path(f\"C:\\\\Users\\\\ss\\\\Desktop\\\\python\\\\images\\\\{b}.jpeg\")\n",
    "#im = Image.open(f\"/home/solicitous/Downloads/images/{a}.jpeg\")\n",
    "if my_file.is_file():\n",
    "    im = Image.open(f\"C:\\\\Users\\\\ss\\\\Desktop\\\\python\\\\images\\\\{b}.jpeg\")\n",
    "    im.show()\n",
    "else:\n",
    "    print('file not found')"
   ]
  },
  {
   "cell_type": "code",
   "execution_count": 10,
   "id": "5027b2db",
   "metadata": {},
   "outputs": [
    {
     "name": "stdout",
     "output_type": "stream",
     "text": [
      "enter: tel\n",
      "['tel']\n",
      "false\n"
     ]
    }
   ],
   "source": [
    "from pathlib import Path\n",
    "from PIL import Image\n",
    "\n",
    "\n",
    "a = input(\"enter: \")\n",
    "\n",
    "# lst1 = a.split()\n",
    "# print(lst1)\n",
    "with open('C:\\\\Users\\\\ss\\\\Desktop\\\\python\\\\geeks.txt') as f:\n",
    "    if f'{a}' in f.read():\n",
    "        my_file = Path(f\"C:\\\\Users\\\\ss\\\\Desktop\\\\python\\\\images\\\\{a}.jpeg\")\n",
    "        if my_file.is_file():\n",
    "            im = Image.open(f\"C:\\\\Users\\\\ss\\\\Desktop\\\\python\\\\images\\\\{a}.jpeg\")\n",
    "            im.show()\n",
    "        else:\n",
    "            print('file not found')        \n",
    "    else:\n",
    "        print(\"false\")"
   ]
  },
  {
   "cell_type": "code",
   "execution_count": 3,
   "id": "adccbf41",
   "metadata": {},
   "outputs": [
    {
     "name": "stdout",
     "output_type": "stream",
     "text": [
      "enter: 1\n",
      "['1']\n",
      "false\n"
     ]
    }
   ],
   "source": [
    "from pathlib import Path\n",
    "from PIL import Image\n",
    "\n",
    "\n",
    "a = input(\"enter: \")\n",
    "\n",
    "lst1 = a.split()\n",
    "print(lst1)\n",
    "with open('C:\\\\Users\\\\ss\\\\Desktop\\\\python\\\\geeks.txt') as f:\n",
    "    if f'{a}' in f.read():\n",
    "        my_file = Path(f\"C:\\\\Users\\\\ss\\\\Desktop\\\\python\\\\images\\\\{a}.jpeg\")\n",
    "        if my_file.is_file():\n",
    "            im = Image.open(f\"C:\\\\Users\\\\ss\\\\Desktop\\\\python\\\\images\\\\{a}.jpeg\")\n",
    "            im.show()\n",
    "        else:\n",
    "            print('file not found')        \n",
    "    else:\n",
    "        print(\"false\")"
   ]
  },
  {
   "cell_type": "code",
   "execution_count": 165,
   "id": "d1a604d1",
   "metadata": {},
   "outputs": [
    {
     "name": "stdout",
     "output_type": "stream",
     "text": [
      "enter: i love banana\n",
      "['i', 'love', 'banana']\n"
     ]
    }
   ],
   "source": [
    "database = [\"burger\", \"kd\", \"banana\",\"ek\"]\n",
    "a = input(\"enter: \")\n",
    "list1 = list(a.split(\" \")) \n",
    "print(list1)\n",
    "for list1 in database:\n",
    "    if "
   ]
  },
  {
   "cell_type": "code",
   "execution_count": null,
   "id": "270c2596",
   "metadata": {},
   "outputs": [],
   "source": [
    "str1 = \"Python pool for python knowledge\"\n",
    "list1 = list(a.split(\" \")) \n",
    "print(list1)"
   ]
  },
  {
   "cell_type": "code",
   "execution_count": 40,
   "id": "4a010092",
   "metadata": {},
   "outputs": [
    {
     "name": "stdout",
     "output_type": "stream",
     "text": [
      "Did you say whatsapp\n",
      "file not found\n"
     ]
    }
   ],
   "source": [
    "import speech_recognition as sr\n",
    "import pyttsx3\n",
    "from pathlib import Path\n",
    "from PIL import Image\n",
    "\n",
    "r = sr.Recognizer()\n",
    "\n",
    "def SpeakText(command):\n",
    "\tengine = pyttsx3.init()\n",
    "\tengine.say(command)\n",
    "\tengine.runAndWait()\n",
    "\n",
    "with sr.Microphone() as source2:\n",
    "\t\t\tr.adjust_for_ambient_noise(source2, duration=0.1)\n",
    "\t\t\taudio2 = r.listen(source2)\n",
    "\t\t\tMyText = r.recognize_google(audio2)\n",
    "\t\t\tMyText = MyText.lower()\n",
    "\n",
    "\t\t\tprint(\"Did you say \"+MyText)\n",
    "\t\t\tSpeakText(MyText)\n",
    "            \n",
    "my_file = Path(f\"C:\\\\Users\\\\ss\\\\Desktop\\\\python\\\\images\\\\{MyText}.jpeg\")\n",
    "if my_file.is_file():\n",
    "    im = Image.open(f\"C:\\\\Users\\\\ss\\\\Desktop\\\\python\\\\images\\\\{MyText}.jpeg\")\n",
    "    im.show()\n",
    "else:\n",
    "    print('file not found')            \n",
    "        "
   ]
  },
  {
   "cell_type": "code",
   "execution_count": null,
   "id": "7591b842",
   "metadata": {},
   "outputs": [],
   "source": []
  },
  {
   "cell_type": "code",
   "execution_count": null,
   "id": "339ef3dc",
   "metadata": {},
   "outputs": [],
   "source": []
  }
 ],
 "metadata": {
  "kernelspec": {
   "display_name": "Python 3 (ipykernel)",
   "language": "python",
   "name": "python3"
  },
  "language_info": {
   "codemirror_mode": {
    "name": "ipython",
    "version": 3
   },
   "file_extension": ".py",
   "mimetype": "text/x-python",
   "name": "python",
   "nbconvert_exporter": "python",
   "pygments_lexer": "ipython3",
   "version": "3.7.3"
  }
 },
 "nbformat": 4,
 "nbformat_minor": 5
}
